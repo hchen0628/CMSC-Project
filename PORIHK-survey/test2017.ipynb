{
 "cells": [
  {
   "cell_type": "code",
   "execution_count": null,
   "metadata": {},
   "outputs": [],
   "source": [
    "# test 2017"
   ]
  },
  {
   "cell_type": "code",
   "execution_count": 2,
   "metadata": {},
   "outputs": [],
   "source": [
    "import pyreadstat\n",
    "import os\n",
    "import pandas as pd\n",
    "import matplotlib.pyplot as plt"
   ]
  },
  {
   "cell_type": "code",
   "execution_count": 3,
   "metadata": {},
   "outputs": [],
   "source": [
    "root_folder = r'C:\\Users\\Annii\\Documents\\HL\\Study\\UChicago\\24 Winter\\122\\project\\2017'"
   ]
  },
  {
   "cell_type": "code",
   "execution_count": 4,
   "metadata": {},
   "outputs": [],
   "source": [
    "dfs = []\n",
    "\n",
    "for filename in os.listdir(root_folder):\n",
    "    \n",
    "    if filename.endswith('.sav'):\n",
    "        \n",
    "        file_path = os.path.join(root_folder, filename)\n",
    "        df, _ = pyreadstat.read_sav(file_path)\n",
    "        dfs.append(df)\n",
    "\n",
    "all_data = pd.concat(dfs, ignore_index=True)"
   ]
  },
  {
   "cell_type": "code",
   "execution_count": 25,
   "metadata": {},
   "outputs": [
    {
     "data": {
      "text/html": [
       "<div>\n",
       "<style scoped>\n",
       "    .dataframe tbody tr th:only-of-type {\n",
       "        vertical-align: middle;\n",
       "    }\n",
       "\n",
       "    .dataframe tbody tr th {\n",
       "        vertical-align: top;\n",
       "    }\n",
       "\n",
       "    .dataframe thead th {\n",
       "        text-align: right;\n",
       "    }\n",
       "</style>\n",
       "<table border=\"1\" class=\"dataframe\">\n",
       "  <thead>\n",
       "    <tr style=\"text-align: right;\">\n",
       "      <th></th>\n",
       "      <th>caseid</th>\n",
       "      <th>date</th>\n",
       "      <th>Tsang</th>\n",
       "      <th>Tsanggp</th>\n",
       "      <th>Tsangm</th>\n",
       "      <th>Lam</th>\n",
       "      <th>Lamgp</th>\n",
       "      <th>Lamm</th>\n",
       "      <th>Woo</th>\n",
       "      <th>Woogp</th>\n",
       "      <th>Woom</th>\n",
       "      <th>CERollQ4</th>\n",
       "      <th>gender</th>\n",
       "      <th>agegp</th>\n",
       "      <th>edugp</th>\n",
       "      <th>occgp</th>\n",
       "      <th>inclin</th>\n",
       "      <th>weight</th>\n",
       "    </tr>\n",
       "  </thead>\n",
       "  <tbody>\n",
       "    <tr>\n",
       "      <th>count</th>\n",
       "      <td>20909.000000</td>\n",
       "      <td>2.090900e+04</td>\n",
       "      <td>20909.00000</td>\n",
       "      <td>20909.000000</td>\n",
       "      <td>20566.000000</td>\n",
       "      <td>20909.000000</td>\n",
       "      <td>20909.000000</td>\n",
       "      <td>20563.000000</td>\n",
       "      <td>20909.000000</td>\n",
       "      <td>20909.000000</td>\n",
       "      <td>20123.000000</td>\n",
       "      <td>20865.000000</td>\n",
       "      <td>20909.000000</td>\n",
       "      <td>20909.000000</td>\n",
       "      <td>20909.000000</td>\n",
       "      <td>20909.000000</td>\n",
       "      <td>20909.00000</td>\n",
       "      <td>20909.000000</td>\n",
       "    </tr>\n",
       "    <tr>\n",
       "      <th>mean</th>\n",
       "      <td>2515.467980</td>\n",
       "      <td>2.017031e+07</td>\n",
       "      <td>211.31264</td>\n",
       "      <td>149.912047</td>\n",
       "      <td>67.476709</td>\n",
       "      <td>197.990196</td>\n",
       "      <td>147.884069</td>\n",
       "      <td>55.265525</td>\n",
       "      <td>370.555646</td>\n",
       "      <td>327.593811</td>\n",
       "      <td>48.584605</td>\n",
       "      <td>553.295615</td>\n",
       "      <td>1.557272</td>\n",
       "      <td>2.885217</td>\n",
       "      <td>1.670812</td>\n",
       "      <td>2.668946</td>\n",
       "      <td>1706.36611</td>\n",
       "      <td>1.000000</td>\n",
       "    </tr>\n",
       "    <tr>\n",
       "      <th>std</th>\n",
       "      <td>1254.095289</td>\n",
       "      <td>6.073474e+00</td>\n",
       "      <td>1117.43808</td>\n",
       "      <td>1125.144750</td>\n",
       "      <td>21.285708</td>\n",
       "      <td>1114.340635</td>\n",
       "      <td>1120.364843</td>\n",
       "      <td>30.023207</td>\n",
       "      <td>1656.659076</td>\n",
       "      <td>1664.861632</td>\n",
       "      <td>22.683808</td>\n",
       "      <td>2143.786504</td>\n",
       "      <td>0.496721</td>\n",
       "      <td>10.409564</td>\n",
       "      <td>7.153457</td>\n",
       "      <td>11.072868</td>\n",
       "      <td>3498.75983</td>\n",
       "      <td>0.700139</td>\n",
       "    </tr>\n",
       "    <tr>\n",
       "      <th>min</th>\n",
       "      <td>1.000000</td>\n",
       "      <td>2.017030e+07</td>\n",
       "      <td>-99.00000</td>\n",
       "      <td>-99.000000</td>\n",
       "      <td>0.000000</td>\n",
       "      <td>-99.000000</td>\n",
       "      <td>-99.000000</td>\n",
       "      <td>0.000000</td>\n",
       "      <td>-99.000000</td>\n",
       "      <td>-99.000000</td>\n",
       "      <td>0.000000</td>\n",
       "      <td>1.000000</td>\n",
       "      <td>1.000000</td>\n",
       "      <td>-99.000000</td>\n",
       "      <td>-99.000000</td>\n",
       "      <td>-99.000000</td>\n",
       "      <td>-99.00000</td>\n",
       "      <td>0.088445</td>\n",
       "    </tr>\n",
       "    <tr>\n",
       "      <th>25%</th>\n",
       "      <td>1463.000000</td>\n",
       "      <td>2.017031e+07</td>\n",
       "      <td>50.00000</td>\n",
       "      <td>4.000000</td>\n",
       "      <td>50.000000</td>\n",
       "      <td>40.000000</td>\n",
       "      <td>3.000000</td>\n",
       "      <td>40.000000</td>\n",
       "      <td>40.000000</td>\n",
       "      <td>3.000000</td>\n",
       "      <td>40.000000</td>\n",
       "      <td>1.000000</td>\n",
       "      <td>1.000000</td>\n",
       "      <td>3.000000</td>\n",
       "      <td>2.000000</td>\n",
       "      <td>2.000000</td>\n",
       "      <td>1.00000</td>\n",
       "      <td>0.492112</td>\n",
       "    </tr>\n",
       "    <tr>\n",
       "      <th>50%</th>\n",
       "      <td>2509.000000</td>\n",
       "      <td>2.017031e+07</td>\n",
       "      <td>70.00000</td>\n",
       "      <td>5.000000</td>\n",
       "      <td>70.000000</td>\n",
       "      <td>60.000000</td>\n",
       "      <td>5.000000</td>\n",
       "      <td>60.000000</td>\n",
       "      <td>50.000000</td>\n",
       "      <td>4.000000</td>\n",
       "      <td>50.000000</td>\n",
       "      <td>2.000000</td>\n",
       "      <td>2.000000</td>\n",
       "      <td>4.000000</td>\n",
       "      <td>2.000000</td>\n",
       "      <td>5.000000</td>\n",
       "      <td>3.00000</td>\n",
       "      <td>0.885590</td>\n",
       "    </tr>\n",
       "    <tr>\n",
       "      <th>75%</th>\n",
       "      <td>3554.000000</td>\n",
       "      <td>2.017032e+07</td>\n",
       "      <td>80.00000</td>\n",
       "      <td>6.000000</td>\n",
       "      <td>80.000000</td>\n",
       "      <td>80.000000</td>\n",
       "      <td>6.000000</td>\n",
       "      <td>80.000000</td>\n",
       "      <td>65.000000</td>\n",
       "      <td>5.000000</td>\n",
       "      <td>60.000000</td>\n",
       "      <td>3.000000</td>\n",
       "      <td>2.000000</td>\n",
       "      <td>5.000000</td>\n",
       "      <td>3.000000</td>\n",
       "      <td>6.000000</td>\n",
       "      <td>3.00000</td>\n",
       "      <td>1.297220</td>\n",
       "    </tr>\n",
       "    <tr>\n",
       "      <th>max</th>\n",
       "      <td>5146.000000</td>\n",
       "      <td>2.017032e+07</td>\n",
       "      <td>8888.00000</td>\n",
       "      <td>8888.000000</td>\n",
       "      <td>100.000000</td>\n",
       "      <td>8888.000000</td>\n",
       "      <td>8888.000000</td>\n",
       "      <td>100.000000</td>\n",
       "      <td>8888.000000</td>\n",
       "      <td>8888.000000</td>\n",
       "      <td>100.000000</td>\n",
       "      <td>8888.000000</td>\n",
       "      <td>2.000000</td>\n",
       "      <td>6.000000</td>\n",
       "      <td>3.000000</td>\n",
       "      <td>6.000000</td>\n",
       "      <td>8888.00000</td>\n",
       "      <td>5.349351</td>\n",
       "    </tr>\n",
       "  </tbody>\n",
       "</table>\n",
       "</div>"
      ],
      "text/plain": [
       "             caseid          date        Tsang       Tsanggp        Tsangm  \\\n",
       "count  20909.000000  2.090900e+04  20909.00000  20909.000000  20566.000000   \n",
       "mean    2515.467980  2.017031e+07    211.31264    149.912047     67.476709   \n",
       "std     1254.095289  6.073474e+00   1117.43808   1125.144750     21.285708   \n",
       "min        1.000000  2.017030e+07    -99.00000    -99.000000      0.000000   \n",
       "25%     1463.000000  2.017031e+07     50.00000      4.000000     50.000000   \n",
       "50%     2509.000000  2.017031e+07     70.00000      5.000000     70.000000   \n",
       "75%     3554.000000  2.017032e+07     80.00000      6.000000     80.000000   \n",
       "max     5146.000000  2.017032e+07   8888.00000   8888.000000    100.000000   \n",
       "\n",
       "                Lam         Lamgp          Lamm           Woo         Woogp  \\\n",
       "count  20909.000000  20909.000000  20563.000000  20909.000000  20909.000000   \n",
       "mean     197.990196    147.884069     55.265525    370.555646    327.593811   \n",
       "std     1114.340635   1120.364843     30.023207   1656.659076   1664.861632   \n",
       "min      -99.000000    -99.000000      0.000000    -99.000000    -99.000000   \n",
       "25%       40.000000      3.000000     40.000000     40.000000      3.000000   \n",
       "50%       60.000000      5.000000     60.000000     50.000000      4.000000   \n",
       "75%       80.000000      6.000000     80.000000     65.000000      5.000000   \n",
       "max     8888.000000   8888.000000    100.000000   8888.000000   8888.000000   \n",
       "\n",
       "               Woom      CERollQ4        gender         agegp         edugp  \\\n",
       "count  20123.000000  20865.000000  20909.000000  20909.000000  20909.000000   \n",
       "mean      48.584605    553.295615      1.557272      2.885217      1.670812   \n",
       "std       22.683808   2143.786504      0.496721     10.409564      7.153457   \n",
       "min        0.000000      1.000000      1.000000    -99.000000    -99.000000   \n",
       "25%       40.000000      1.000000      1.000000      3.000000      2.000000   \n",
       "50%       50.000000      2.000000      2.000000      4.000000      2.000000   \n",
       "75%       60.000000      3.000000      2.000000      5.000000      3.000000   \n",
       "max      100.000000   8888.000000      2.000000      6.000000      3.000000   \n",
       "\n",
       "              occgp       inclin        weight  \n",
       "count  20909.000000  20909.00000  20909.000000  \n",
       "mean       2.668946   1706.36611      1.000000  \n",
       "std       11.072868   3498.75983      0.700139  \n",
       "min      -99.000000    -99.00000      0.088445  \n",
       "25%        2.000000      1.00000      0.492112  \n",
       "50%        5.000000      3.00000      0.885590  \n",
       "75%        6.000000      3.00000      1.297220  \n",
       "max        6.000000   8888.00000      5.349351  "
      ]
     },
     "execution_count": 25,
     "metadata": {},
     "output_type": "execute_result"
    }
   ],
   "source": [
    "all_data.describe()"
   ]
  },
  {
   "cell_type": "code",
   "execution_count": 11,
   "metadata": {},
   "outputs": [
    {
     "name": "stdout",
     "output_type": "stream",
     "text": [
      "[None, None, '請你用0至100分評價以下人士出任特首既適合程度，0分代表絕對不適合，100分代表絕對適合，50分代表一半半，你會比幾多分：[曾俊華]', '請你用0至100分評價以下人士出任特首既適合程度，0分代表絕對不適合，100分代表絕對適合，50分代表一半半，你會比幾多分：[曾俊華]', '請你用0至100分評價以下人士出任特首既適合程度，0分代表絕對不適合，100分代表絕對適合，50分代表一半半，你會比幾多分：[曾俊華]', '請你用0至100分評價以下人士出任特首既適合程度，0分代表絕對不適合，100分代表絕對適合，50分代表一半半，你會比幾多分：[林鄭月娥]', '請你用0至100分評價以下人士出任特首既適合程度，0分代表絕對不適合，100分代表絕對適合，50分代表一半半，你會比幾多分：[林鄭月娥]', '請你用0至100分評價以下人士出任特首既適合程度，0分代表絕對不適合，100分代表絕對適合，50分代表一半半，你會比幾多分：[林鄭月娥]', '請你用0至100分評價以下人士出任特首既適合程度，0分代表絕對不適合，100分代表絕對適合，50分代表一半半，你會比幾多分：[胡國興]', '請你用0至100分評價以下人士出任特首既適合程度，0分代表絕對不適合，100分代表絕對適合，50分代表一半半，你會比幾多分：[胡國興]', '請你用0至100分評價以下人士出任特首既適合程度，0分代表絕對不適合，100分代表絕對適合，50分代表一半半，你會比幾多分：[胡國興]', '[CERoll_Q4] 如果聽日畀你投票選特首，而參選者只有以下人士，你會選邊個？[讀出首3個名字，次序由電腦隨機排列，只選一個]', '性別 Gender', '年齡組別 Age group', '教育程度 Education', '職位 Occupation', '政治取向 Political Inclination', None]\n"
     ]
    }
   ],
   "source": [
    "print(_.column_labels)"
   ]
  },
  {
   "cell_type": "markdown",
   "metadata": {},
   "source": [
    "Tsangm: '請你用0至100分評價以下人士出任特首既適合程度，0分代表絕對不適合，100分代表絕對適合，50分代表一半半，你會比幾多分：[曾俊華]', \n",
    "\n",
    "Lamm: '請你用0至100分評價以下人士出任特首既適合程度，0分代表絕對不適合，100分代表絕對適合，50分代表一半半，你會比幾多分：[林鄭月娥]', \n",
    "\n",
    "Woom: '請你用0至100分評價以下人士出任特首既適合程度，0分代表絕對不適合，100分代表絕對適合，50分代表一半半，你會比幾多分：[胡國興]', \n",
    "\n",
    "'[CERoll_Q4] 如果聽日畀你投票選特首，而參選者只有以下人士，你會選邊個？[讀出首3個名字，次序由電腦隨機排列，只選一個]', 曾俊華: 1.0;胡國興: 2.0;林鄭月娥: 3.0;全部都唔選: 8886.0\n",
    "\n",
    "'性別 Gender', \n",
    "\n",
    "'年齡組別 Age group', \n",
    "\n",
    "'教育程度 Education', \n",
    "\n",
    "'職位 Occupation', \n",
    "\n",
    "'政治取向 Political Inclination'"
   ]
  },
  {
   "cell_type": "code",
   "execution_count": 5,
   "metadata": {},
   "outputs": [],
   "source": [
    "df = all_data[['Tsangm', 'Lamm', 'Woom', 'CERollQ4', 'gender', 'agegp', 'edugp', 'occgp', 'inclin']]\n",
    "df = df[(df >= 0) & (df < 8888)]\n",
    "df['date'] = all_data['date']"
   ]
  },
  {
   "cell_type": "code",
   "execution_count": 62,
   "metadata": {},
   "outputs": [
    {
     "data": {
      "text/html": [
       "<div>\n",
       "<style scoped>\n",
       "    .dataframe tbody tr th:only-of-type {\n",
       "        vertical-align: middle;\n",
       "    }\n",
       "\n",
       "    .dataframe tbody tr th {\n",
       "        vertical-align: top;\n",
       "    }\n",
       "\n",
       "    .dataframe thead th {\n",
       "        text-align: right;\n",
       "    }\n",
       "</style>\n",
       "<table border=\"1\" class=\"dataframe\">\n",
       "  <thead>\n",
       "    <tr style=\"text-align: right;\">\n",
       "      <th></th>\n",
       "      <th>Tsangm</th>\n",
       "      <th>Lamm</th>\n",
       "      <th>Woom</th>\n",
       "      <th>CERollQ4</th>\n",
       "      <th>gender</th>\n",
       "      <th>agegp</th>\n",
       "      <th>edugp</th>\n",
       "      <th>occgp</th>\n",
       "      <th>inclin</th>\n",
       "      <th>date</th>\n",
       "    </tr>\n",
       "  </thead>\n",
       "  <tbody>\n",
       "    <tr>\n",
       "      <th>count</th>\n",
       "      <td>20566.000000</td>\n",
       "      <td>20563.000000</td>\n",
       "      <td>20123.000000</td>\n",
       "      <td>20298.000000</td>\n",
       "      <td>20909.000000</td>\n",
       "      <td>20698.000000</td>\n",
       "      <td>20805.000000</td>\n",
       "      <td>20672.000000</td>\n",
       "      <td>19995.000000</td>\n",
       "      <td>2.090900e+04</td>\n",
       "    </tr>\n",
       "    <tr>\n",
       "      <th>mean</th>\n",
       "      <td>67.476709</td>\n",
       "      <td>55.265525</td>\n",
       "      <td>48.584605</td>\n",
       "      <td>320.475761</td>\n",
       "      <td>1.557272</td>\n",
       "      <td>3.923857</td>\n",
       "      <td>2.174045</td>\n",
       "      <td>3.834559</td>\n",
       "      <td>1415.388747</td>\n",
       "      <td>2.017031e+07</td>\n",
       "    </tr>\n",
       "    <tr>\n",
       "      <th>std</th>\n",
       "      <td>21.285708</td>\n",
       "      <td>30.023207</td>\n",
       "      <td>22.683808</td>\n",
       "      <td>1652.094900</td>\n",
       "      <td>0.496721</td>\n",
       "      <td>1.599270</td>\n",
       "      <td>0.714975</td>\n",
       "      <td>2.035463</td>\n",
       "      <td>3249.475938</td>\n",
       "      <td>6.073474e+00</td>\n",
       "    </tr>\n",
       "    <tr>\n",
       "      <th>min</th>\n",
       "      <td>0.000000</td>\n",
       "      <td>0.000000</td>\n",
       "      <td>0.000000</td>\n",
       "      <td>1.000000</td>\n",
       "      <td>1.000000</td>\n",
       "      <td>1.000000</td>\n",
       "      <td>1.000000</td>\n",
       "      <td>1.000000</td>\n",
       "      <td>1.000000</td>\n",
       "      <td>2.017030e+07</td>\n",
       "    </tr>\n",
       "    <tr>\n",
       "      <th>25%</th>\n",
       "      <td>50.000000</td>\n",
       "      <td>40.000000</td>\n",
       "      <td>40.000000</td>\n",
       "      <td>1.000000</td>\n",
       "      <td>1.000000</td>\n",
       "      <td>3.000000</td>\n",
       "      <td>2.000000</td>\n",
       "      <td>2.000000</td>\n",
       "      <td>1.000000</td>\n",
       "      <td>2.017031e+07</td>\n",
       "    </tr>\n",
       "    <tr>\n",
       "      <th>50%</th>\n",
       "      <td>70.000000</td>\n",
       "      <td>60.000000</td>\n",
       "      <td>50.000000</td>\n",
       "      <td>1.000000</td>\n",
       "      <td>2.000000</td>\n",
       "      <td>4.000000</td>\n",
       "      <td>2.000000</td>\n",
       "      <td>5.000000</td>\n",
       "      <td>3.000000</td>\n",
       "      <td>2.017031e+07</td>\n",
       "    </tr>\n",
       "    <tr>\n",
       "      <th>75%</th>\n",
       "      <td>80.000000</td>\n",
       "      <td>80.000000</td>\n",
       "      <td>60.000000</td>\n",
       "      <td>3.000000</td>\n",
       "      <td>2.000000</td>\n",
       "      <td>5.000000</td>\n",
       "      <td>3.000000</td>\n",
       "      <td>6.000000</td>\n",
       "      <td>3.000000</td>\n",
       "      <td>2.017032e+07</td>\n",
       "    </tr>\n",
       "    <tr>\n",
       "      <th>max</th>\n",
       "      <td>100.000000</td>\n",
       "      <td>100.000000</td>\n",
       "      <td>100.000000</td>\n",
       "      <td>8886.000000</td>\n",
       "      <td>2.000000</td>\n",
       "      <td>6.000000</td>\n",
       "      <td>3.000000</td>\n",
       "      <td>6.000000</td>\n",
       "      <td>8886.000000</td>\n",
       "      <td>2.017032e+07</td>\n",
       "    </tr>\n",
       "  </tbody>\n",
       "</table>\n",
       "</div>"
      ],
      "text/plain": [
       "             Tsangm          Lamm          Woom      CERollQ4        gender  \\\n",
       "count  20566.000000  20563.000000  20123.000000  20298.000000  20909.000000   \n",
       "mean      67.476709     55.265525     48.584605    320.475761      1.557272   \n",
       "std       21.285708     30.023207     22.683808   1652.094900      0.496721   \n",
       "min        0.000000      0.000000      0.000000      1.000000      1.000000   \n",
       "25%       50.000000     40.000000     40.000000      1.000000      1.000000   \n",
       "50%       70.000000     60.000000     50.000000      1.000000      2.000000   \n",
       "75%       80.000000     80.000000     60.000000      3.000000      2.000000   \n",
       "max      100.000000    100.000000    100.000000   8886.000000      2.000000   \n",
       "\n",
       "              agegp         edugp         occgp        inclin          date  \n",
       "count  20698.000000  20805.000000  20672.000000  19995.000000  2.090900e+04  \n",
       "mean       3.923857      2.174045      3.834559   1415.388747  2.017031e+07  \n",
       "std        1.599270      0.714975      2.035463   3249.475938  6.073474e+00  \n",
       "min        1.000000      1.000000      1.000000      1.000000  2.017030e+07  \n",
       "25%        3.000000      2.000000      2.000000      1.000000  2.017031e+07  \n",
       "50%        4.000000      2.000000      5.000000      3.000000  2.017031e+07  \n",
       "75%        5.000000      3.000000      6.000000      3.000000  2.017032e+07  \n",
       "max        6.000000      3.000000      6.000000   8886.000000  2.017032e+07  "
      ]
     },
     "execution_count": 62,
     "metadata": {},
     "output_type": "execute_result"
    }
   ],
   "source": [
    "df.describe()"
   ]
  },
  {
   "cell_type": "code",
   "execution_count": 6,
   "metadata": {},
   "outputs": [],
   "source": [
    "pd.options.mode.chained_assignment = None  # default='warn'"
   ]
  },
  {
   "cell_type": "code",
   "execution_count": 7,
   "metadata": {},
   "outputs": [],
   "source": [
    "df.loc[:,'date'] = df['date'].astype(str)\n",
    "df.loc[:,'date'] = pd.to_datetime(df['date'], format='%Y%m%d.%f')"
   ]
  },
  {
   "cell_type": "code",
   "execution_count": 66,
   "metadata": {},
   "outputs": [
    {
     "data": {
      "text/plain": [
       "0        2017-03-01 00:00:00\n",
       "1        2017-03-01 00:00:00\n",
       "2        2017-03-01 00:00:00\n",
       "3        2017-03-01 00:00:00\n",
       "4        2017-03-01 00:00:00\n",
       "                ...         \n",
       "20904    2017-03-24 00:00:00\n",
       "20905    2017-03-24 00:00:00\n",
       "20906    2017-03-24 00:00:00\n",
       "20907    2017-03-24 00:00:00\n",
       "20908    2017-03-24 00:00:00\n",
       "Name: date, Length: 20909, dtype: object"
      ]
     },
     "execution_count": 66,
     "metadata": {},
     "output_type": "execute_result"
    }
   ],
   "source": [
    "df['date']"
   ]
  },
  {
   "cell_type": "code",
   "execution_count": 8,
   "metadata": {},
   "outputs": [],
   "source": [
    "selected = df[['Tsangm', 'Lamm', 'Woom', 'date']]\n",
    "avg = selected.groupby('date').mean()"
   ]
  },
  {
   "cell_type": "code",
   "execution_count": 76,
   "metadata": {},
   "outputs": [
    {
     "data": {
      "text/plain": [
       "<Axes: xlabel='date'>"
      ]
     },
     "execution_count": 76,
     "metadata": {},
     "output_type": "execute_result"
    },
    {
     "data": {
      "image/png": "[encoded data removed]",
      "text/plain": [
       "<Figure size 640x480 with 1 Axes>"
      ]
     },
     "metadata": {},
     "output_type": "display_data"
    }
   ],
   "source": [
    "avg.plot()"
   ]
  },
  {
   "cell_type": "code",
   "execution_count": 77,
   "metadata": {},
   "outputs": [
    {
     "data": {
      "text/plain": [
       "0    1.0\n",
       "Name: CERollQ4, dtype: float64"
      ]
     },
     "execution_count": 77,
     "metadata": {},
     "output_type": "execute_result"
    }
   ],
   "source": [
    "df['CERollQ4'].mode()"
   ]
  },
  {
   "cell_type": "code",
   "execution_count": 10,
   "metadata": {},
   "outputs": [],
   "source": [
    "value_counts = df['CERollQ4'].value_counts()\n"
   ]
  },
  {
   "cell_type": "code",
   "execution_count": 87,
   "metadata": {},
   "outputs": [
    {
     "data": {
      "text/plain": [
       "CERollQ4\n",
       "1.0       10359\n",
       "3.0        7228\n",
       "2.0        1983\n",
       "8886.0      728\n",
       "Name: count, dtype: int64"
      ]
     },
     "execution_count": 87,
     "metadata": {},
     "output_type": "execute_result"
    }
   ],
   "source": [
    "value_counts"
   ]
  },
  {
   "cell_type": "code",
   "execution_count": 11,
   "metadata": {},
   "outputs": [
    {
     "data": {
      "image/png": "[encoded data removed]",
      "text/plain": [
       "<Figure size 640x480 with 1 Axes>"
      ]
     },
     "metadata": {},
     "output_type": "display_data"
    }
   ],
   "source": [
    "plt.bar(value_counts.index.astype(str), value_counts.values, color='skyblue')\n",
    "plt.title('Count of Votes')\n",
    "plt.xlabel('Value')\n",
    "plt.ylabel('Count')\n",
    "plt.xticks(value_counts.index.astype(str), labels={'Tsang': 1.0, 'Woo': 2.0, 'Lam': 3.0,'None': 8886.0})\n",
    "plt.show()"
   ]
  },
  {
   "cell_type": "code",
   "execution_count": 13,
   "metadata": {},
   "outputs": [
    {
     "data": {
      "image/png": "[encoded data removed]",
      "text/plain": [
       "<Figure size 800x800 with 1 Axes>"
      ]
     },
     "metadata": {},
     "output_type": "display_data"
    }
   ],
   "source": [
    "plt.figure(figsize=(8, 8))\n",
    "plt.pie(value_counts, labels={'Tsang': 1.0, 'Woo': 2.0, 'Lam': 3.0,'None': 8886.0}, autopct='%1.1f%%', startangle=140)\n",
    "plt.title('Distribution of Votes')\n",
    "plt.axis('equal')\n",
    "plt.show()"
   ]
  }
 ],
 "metadata": {
  "kernelspec": {
   "display_name": "base",
   "language": "python",
   "name": "python3"
  },
  "language_info": {
   "codemirror_mode": {
    "name": "ipython",
    "version": 3
   },
   "file_extension": ".py",
   "mimetype": "text/x-python",
   "name": "python",
   "nbconvert_exporter": "python",
   "pygments_lexer": "ipython3",
   "version": "3.11.5"
  }
 },
 "nbformat": 4,
 "nbformat_minor": 2
}
